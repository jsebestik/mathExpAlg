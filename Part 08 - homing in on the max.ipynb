{
 "cells": [
  {
   "cell_type": "code",
   "execution_count": null,
   "metadata": {},
   "outputs": [],
   "source": [
    "import matplotlib.pyplot as plt\n",
    "import numpy as np\n"
   ]
  },
  {
   "cell_type": "code",
   "execution_count": null,
   "metadata": {},
   "outputs": [],
   "source": [
    "#Let's get our program ready \n",
    "gridlength = 20\n",
    "gridwidth = 20\n",
    "volume=[]\n",
    "height=[]\n",
    "inc = 10 #number of increments in each unit of length or width\n",
    "rangeval =int(10*inc) #we want \"rangeval\" to be an integer\n",
    "\n",
    "for i in range(0,rangeval+1):\n",
    "    height.append(i/inc) \n",
    "    volume.append ((gridlength - 2*height[i])*(gridwidth - 2*height[i])*height[i])\n",
    "    #print (height[i],\" | \", volume[i])    \n",
    "\n"
   ]
  },
  {
   "cell_type": "code",
   "execution_count": null,
   "metadata": {},
   "outputs": [],
   "source": [
    "\n",
    "\n",
    "slopes1=[]\n",
    "slopes2=[]\n",
    "slopes3=[]\n",
    "\n",
    "#fill up the slopes1 list\n",
    "for i in range(0,rangeval):\n",
    "    slopes1.append((volume[i+1]-volume[i])*inc)\n",
    "\n",
    "#fill up the slopes2 list    \n",
    "for i in range(0,rangeval-1):\n",
    "    slopes2.append((slopes1[i+1]-slopes1[i])*inc)\n",
    "    \n",
    "#fill up the slopes3 list    \n",
    "for i in range(0,rangeval-2):\n",
    "    slopes3.append((slopes2[i+1]-slopes2[i])*inc)\n",
    "    \n",
    "    "
   ]
  },
  {
   "cell_type": "code",
   "execution_count": null,
   "metadata": {},
   "outputs": [],
   "source": [
    "print(\"hgt | vol  | slopes1 | slopes2  | slopes3\")  #These are the column headings. \n",
    "for i in range(0,(rangeval-2)):\n",
    "    print (height[i],\"  |\",round(volume[i],2),\"|\",round(slopes1[i],2),\"  |\",round(slopes2[i],2),\"  |\",round(slopes3[i],2))\n",
    "    \n"
   ]
  },
  {
   "cell_type": "code",
   "execution_count": null,
   "metadata": {},
   "outputs": [],
   "source": [
    "\n",
    "plt.plot(height[0:(rangeval-2)], volume[0:(rangeval-2)], \"o--\", label='Volume')\n",
    "plt.plot(height[0:(rangeval-2)], slopes1[0:(rangeval-2)],  \"o--\",label='First slope')\n",
    "plt.plot(height[0:(rangeval-2)], slopes2[0:(rangeval-2)], \"o--\", label='Second slope')\n",
    "plt.plot(height[0:(rangeval-2)], slopes3[0:(rangeval-2)], \"o--\", label=\"Third slope\")\n",
    "plt.xlabel ('height')\n",
    "plt.title(\"Box volume\")\n",
    "plt.legend()\n",
    "plt.show()"
   ]
  },
  {
   "cell_type": "code",
   "execution_count": null,
   "metadata": {},
   "outputs": [],
   "source": []
  }
 ],
 "metadata": {
  "kernelspec": {
   "display_name": "Python 3",
   "language": "python",
   "name": "python3"
  },
  "language_info": {
   "codemirror_mode": {
    "name": "ipython",
    "version": 3
   },
   "file_extension": ".py",
   "mimetype": "text/x-python",
   "name": "python",
   "nbconvert_exporter": "python",
   "pygments_lexer": "ipython3",
   "version": "3.7.1"
  }
 },
 "nbformat": 4,
 "nbformat_minor": 2
}
