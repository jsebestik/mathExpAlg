{
 "cells": [
  {
   "cell_type": "code",
   "execution_count": 1,
   "metadata": {},
   "outputs": [],
   "source": [
    "import matplotlib.pyplot as plt  #This command imports the libraries for graphing \n",
    "import numpy as np   #This command imports the libraries for doing math\n"
   ]
  },
  {
   "cell_type": "code",
   "execution_count": 2,
   "metadata": {},
   "outputs": [],
   "source": [
    "# Look back at the pages where you calculated volume of a box made by cutting a 20x20 grid\n",
    "# The first box was 1cm x 18 cm x 18cm\n",
    "# The second was 2cm x 16cm x 16 cm\n",
    "# and so on. Let's have  the computer do this work. \n",
    "\n",
    "# First make some variables to hold the values\n",
    "gridlength = 20\n",
    "gridwidth = 20\n",
    "height = 1\n",
    "volume = 0"
   ]
  },
  {
   "cell_type": "code",
   "execution_count": 4,
   "metadata": {},
   "outputs": [
    {
     "name": "stdout",
     "output_type": "stream",
     "text": [
      "400\n"
     ]
    }
   ],
   "source": [
    "# Next let the computer do the multiplication work.\n",
    "volume = gridlength *gridwidth* height\n",
    "print (volume)"
   ]
  },
  {
   "cell_type": "code",
   "execution_count": 7,
   "metadata": {},
   "outputs": [
    {
     "name": "stdout",
     "output_type": "stream",
     "text": [
      "324\n"
     ]
    }
   ],
   "source": [
    "# Uggh. 400 is not what I wanted. I have to subtract the height from each side.\n",
    "# Actually, I have to subtract it from both sides!\n",
    "# Let's try this. \n",
    "volume = (gridlength - 2*height)*(gridwidth- 2*height)*height\n",
    "print (volume)"
   ]
  },
  {
   "cell_type": "code",
   "execution_count": 11,
   "metadata": {},
   "outputs": [
    {
     "name": "stdout",
     "output_type": "stream",
     "text": [
      "0\n",
      "324\n",
      "512\n",
      "588\n",
      "576\n",
      "500\n",
      "384\n",
      "252\n",
      "128\n",
      "36\n"
     ]
    }
   ],
   "source": [
    "#That's more like it. \n",
    "#Now, let's do it for all the volumes with a loop\n",
    "\n",
    "for height in range(10):\n",
    "    volume = (gridlength - 2*height)*(gridwidth- 2*height)*height\n",
    "    print (volume)"
   ]
  },
  {
   "cell_type": "code",
   "execution_count": null,
   "metadata": {},
   "outputs": [],
   "source": [
    "# Does that look lihe the output from your table? If not, fix the code to make it look like the values in your table. "
   ]
  }
 ],
 "metadata": {
  "kernelspec": {
   "display_name": "Python 3",
   "language": "python",
   "name": "python3"
  },
  "language_info": {
   "codemirror_mode": {
    "name": "ipython",
    "version": 3
   },
   "file_extension": ".py",
   "mimetype": "text/x-python",
   "name": "python",
   "nbconvert_exporter": "python",
   "pygments_lexer": "ipython3",
   "version": "3.7.1"
  }
 },
 "nbformat": 4,
 "nbformat_minor": 2
}
