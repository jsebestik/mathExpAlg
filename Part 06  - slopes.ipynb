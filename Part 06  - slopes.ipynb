{
 "cells": [
  {
   "cell_type": "code",
   "execution_count": null,
   "metadata": {},
   "outputs": [],
   "source": [
    "import matplotlib.pyplot as plt\n",
    "import numpy as np\n"
   ]
  },
  {
   "cell_type": "code",
   "execution_count": null,
   "metadata": {},
   "outputs": [],
   "source": [
    "#Let's go back to Part III, where we calculated the volume of the boxes and then found the differences. \n",
    "gridlength = 20\n",
    "gridwidth = 20\n",
    "volume=[]\n",
    "height=[]\n",
    "for i in range(0,21):\n",
    "    height.append(i/2) \n",
    "    volume.append ((gridlength - 2*height[i])*(gridwidth - 2*height[i])*height[i])\n",
    "    #print (height[i],\" | \", volume[i])    \n"
   ]
  },
  {
   "cell_type": "code",
   "execution_count": null,
   "metadata": {},
   "outputs": [],
   "source": [
    "slopes1=[]\n",
    "slopes2=[]\n",
    "slopes3=[]\n",
    "# \"inc\" is our increment variable. Less typing :)\n",
    "inc =0.5\n",
    "\n",
    "#fill up the slopes1 list\n",
    "for i in range(0,20):\n",
    "    slopes1.append((volume[i+1]-volume[i])/inc)\n",
    "\n",
    "#fill up the slopes2 list    \n",
    "for i in range(0,19):\n",
    "    slopes2.append((slopes1[i+1]-slopes1[i])/inc)\n",
    "    \n",
    "#fill up the slopes3 list    \n",
    "for i in range(0,18):\n",
    "    slopes3.append((slopes2[i+1]-slopes2[i])/inc)\n",
    "    \n",
    " "
   ]
  },
  {
   "cell_type": "code",
   "execution_count": null,
   "metadata": {},
   "outputs": [],
   "source": [
    "print(\"hgt | vol | slopes1 | slopes2 | slopes3\")  #These are the column headings. \n",
    "for i in range(0,18):\n",
    "    print (height[i],\"  |\",volume[i],\"|\",slopes1[i],\"  |\",slopes2[i],\"  |\",slopes3[i])\n",
    "    \n",
    "\n"
   ]
  },
  {
   "cell_type": "code",
   "execution_count": null,
   "metadata": {},
   "outputs": [],
   "source": [
    "# Adding [0:18] constrains the list to the first 18 list items. That is, items 0 through 17\n",
    "plt.plot(height[0:18], volume[0:18], \"o--\", label='Volume')\n",
    "plt.plot(height[0:18], slopes1[0:18],  \"o--\",label='First slope')\n",
    "plt.plot(height[0:18], slopes2[0:18], \"o--\", label='Second slope')\n",
    "plt.plot(height[0:18], slopes3[0:18], \"o--\", label=\"Third slope\")\n",
    "plt.xlabel ('height')\n",
    "plt.title(\"Box volume\")\n",
    "plt.legend()\n",
    "plt.show()"
   ]
  },
  {
   "cell_type": "code",
   "execution_count": null,
   "metadata": {},
   "outputs": [],
   "source": [
    "\n"
   ]
  },
  {
   "cell_type": "code",
   "execution_count": null,
   "metadata": {},
   "outputs": [],
   "source": []
  },
  {
   "cell_type": "code",
   "execution_count": null,
   "metadata": {},
   "outputs": [],
   "source": []
  },
  {
   "cell_type": "code",
   "execution_count": null,
   "metadata": {},
   "outputs": [],
   "source": []
  }
 ],
 "metadata": {
  "kernelspec": {
   "display_name": "Python 3",
   "language": "python",
   "name": "python3"
  },
  "language_info": {
   "codemirror_mode": {
    "name": "ipython",
    "version": 3
   },
   "file_extension": ".py",
   "mimetype": "text/x-python",
   "name": "python",
   "nbconvert_exporter": "python",
   "pygments_lexer": "ipython3",
   "version": "3.7.1"
  }
 },
 "nbformat": 4,
 "nbformat_minor": 2
}
