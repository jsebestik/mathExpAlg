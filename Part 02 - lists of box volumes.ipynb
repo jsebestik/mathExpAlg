{
 "cells": [
  {
   "cell_type": "code",
   "execution_count": 1,
   "metadata": {},
   "outputs": [],
   "source": [
    "import matplotlib.pyplot as plt\n",
    "import numpy as np\n"
   ]
  },
  {
   "cell_type": "code",
   "execution_count": 2,
   "metadata": {},
   "outputs": [],
   "source": [
    "# Here's what we had from the previous page, and it gave us our list of volumes. \n",
    "#gridlength = 20\n",
    "#gridwidth = 20\n",
    "#height = 1\n",
    "#volume = 0\n",
    "#for height in range(10):\n",
    " #   volume = (gridlength - 2*height)*(gridwidth- 2*height)*height\n",
    "  #  print (volume)"
   ]
  },
  {
   "cell_type": "code",
   "execution_count": 3,
   "metadata": {},
   "outputs": [
    {
     "name": "stdout",
     "output_type": "stream",
     "text": [
      "0  |  0\n",
      "1  |  324\n",
      "2  |  512\n",
      "3  |  588\n",
      "4  |  576\n",
      "5  |  500\n",
      "6  |  384\n",
      "7  |  252\n",
      "8  |  128\n",
      "9  |  36\n",
      "10  |  0\n"
     ]
    }
   ],
   "source": [
    "# But on paper we made a table. We can do something similiar with the computer by using lists. \n",
    "# On paper, our column headings were height and volume. So let's make lists out of those instead of variables. \n",
    "gridlength = 20\n",
    "gridwidth = 20\n",
    "volume=[]\n",
    "height=[]\n",
    "# Since \"height\" is now a list and not a variable, we can just drop another variable \"i\" to use in our for loop\n",
    "# And when we will create new values to append to the ends of our lists of heights and volumes. \n",
    "for i in range(0,11):\n",
    "    height.append(i) \n",
    "    volume.append ((gridlength - 2*height[i])*(gridwidth - 2*height[i])*height[i])\n",
    "    print (height[i],\" | \", volume[i])"
   ]
  },
  {
   "cell_type": "code",
   "execution_count": 4,
   "metadata": {},
   "outputs": [
    {
     "name": "stdout",
     "output_type": "stream",
     "text": [
      "[0, 1, 2, 3, 4, 5, 6, 7, 8, 9, 10]\n"
     ]
    }
   ],
   "source": [
    "print(height)\n",
    "# print(volume)\n"
   ]
  },
  {
   "cell_type": "code",
   "execution_count": 5,
   "metadata": {},
   "outputs": [
    {
     "data": {
      "text/plain": [
       "[<matplotlib.lines.Line2D at 0x7e79748>]"
      ]
     },
     "execution_count": 5,
     "metadata": {},
     "output_type": "execute_result"
    },
    {
     "data": {
      "image/png": "[encoded data removed]",
      "text/plain": [
       "<Figure size 432x288 with 1 Axes>"
      ]
     },
     "metadata": {
      "needs_background": "light"
     },
     "output_type": "display_data"
    }
   ],
   "source": [
    "#Now that we have lists of points, we can plot them as coordinate pairs. \n",
    "#That is what that \"mathplotlib.pyplot as plt\" at the very top is for. It gives us a library of functions for doing graphing\n",
    "# So here is the command\n",
    "plt.plot(height, volume, \"o--\")\n",
    "# The \"o--\" just tells mathplotlib to show the points and make a dashed line. "
   ]
  },
  {
   "cell_type": "code",
   "execution_count": null,
   "metadata": {},
   "outputs": [],
   "source": [
    "#Easier that graphing by hand! :)"
   ]
  }
 ],
 "metadata": {
  "kernelspec": {
   "display_name": "Python 3",
   "language": "python",
   "name": "python3"
  },
  "language_info": {
   "codemirror_mode": {
    "name": "ipython",
    "version": 3
   },
   "file_extension": ".py",
   "mimetype": "text/x-python",
   "name": "python",
   "nbconvert_exporter": "python",
   "pygments_lexer": "ipython3",
   "version": "3.7.1"
  }
 },
 "nbformat": 4,
 "nbformat_minor": 2
}
