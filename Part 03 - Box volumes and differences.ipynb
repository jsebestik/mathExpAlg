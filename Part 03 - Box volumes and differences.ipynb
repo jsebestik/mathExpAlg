{
 "cells": [
  {
   "cell_type": "code",
   "execution_count": 1,
   "metadata": {},
   "outputs": [],
   "source": [
    "import matplotlib.pyplot as plt\n",
    "import numpy as np\n"
   ]
  },
  {
   "cell_type": "code",
   "execution_count": 2,
   "metadata": {},
   "outputs": [],
   "source": [
    "# In the previous pages, we created a table with our height and volume. "
   ]
  },
  {
   "cell_type": "code",
   "execution_count": 3,
   "metadata": {},
   "outputs": [
    {
     "name": "stdout",
     "output_type": "stream",
     "text": [
      "0  |  0\n",
      "1  |  324\n",
      "2  |  512\n",
      "3  |  588\n",
      "4  |  576\n",
      "5  |  500\n",
      "6  |  384\n",
      "7  |  252\n",
      "8  |  128\n",
      "9  |  36\n",
      "10  |  0\n"
     ]
    }
   ],
   "source": [
    "\n",
    "gridlength = 20\n",
    "gridwidth = 20\n",
    "volume=[]\n",
    "height=[]\n",
    "# Since \"height\" is now a list and not a variable, we can just drop another variable \"i\" to use in our for loop\n",
    "# And when we will create new values to append to the ends of our lists of heights and volumes. \n",
    "for i in range(0,11):\n",
    "    height.append(i) \n",
    "    volume.append ((gridlength - 2*height[i])*(gridwidth - 2*height[i])*height[i])\n",
    "    print (height[i],\" | \", volume[i])"
   ]
  },
  {
   "cell_type": "code",
   "execution_count": 4,
   "metadata": {},
   "outputs": [
    {
     "name": "stdout",
     "output_type": "stream",
     "text": [
      "324\n",
      "188\n",
      "76\n",
      "-12\n",
      "-76\n",
      "-116\n",
      "-132\n",
      "-124\n",
      "-92\n",
      "-36\n"
     ]
    }
   ],
   "source": [
    "#We can now do a similiar process to find the differences. \n",
    "firstdiff=[]\n",
    "secdiff=[]\n",
    "thirddiff=[]\n",
    "\n",
    "for i in range(0,10):\n",
    "    firstdiff.append(volume[i+1]-volume[i])\n",
    "    print(firstdiff[i])\n"
   ]
  },
  {
   "cell_type": "code",
   "execution_count": 5,
   "metadata": {},
   "outputs": [
    {
     "name": "stdout",
     "output_type": "stream",
     "text": [
      "-136\n",
      "-112\n",
      "-88\n",
      "-64\n",
      "-40\n",
      "-16\n",
      "8\n",
      "32\n",
      "56\n"
     ]
    }
   ],
   "source": [
    "#We can do the same thing for the list secdiff (second difference) and thirddiff (third difference)\n",
    "#Notice that we have some trouble keeping track at the ends. Each list of differences is shorter than the last by one member. \n",
    "\n",
    "for i in range(0,9):\n",
    "    secdiff.append(firstdiff[i+1]-firstdiff[i])\n",
    "    print(secdiff[i])"
   ]
  },
  {
   "cell_type": "code",
   "execution_count": 6,
   "metadata": {},
   "outputs": [
    {
     "name": "stdout",
     "output_type": "stream",
     "text": [
      "24\n",
      "24\n",
      "24\n",
      "24\n",
      "24\n",
      "24\n",
      "24\n",
      "24\n",
      "8\n",
      "[24, 24, 24, 24, 24, 24, 24, 24]\n"
     ]
    }
   ],
   "source": [
    "for i in range(0,8):\n",
    "    thirddiff.append(secdiff[i+1]-secdiff[i])\n",
    "    print(thirddiff[i])\n",
    "print(len(thirddiff))\n",
    "print(thirddiff)"
   ]
  },
  {
   "cell_type": "code",
   "execution_count": 8,
   "metadata": {},
   "outputs": [
    {
     "name": "stdout",
     "output_type": "stream",
     "text": [
      "hgt | vol | 1diff | 2diff | 3diff\n",
      "0   | 0 | 324   | -136   | 24\n",
      "1   | 324 | 188   | -112   | 24\n",
      "2   | 512 | 76   | -88   | 24\n",
      "3   | 588 | -12   | -64   | 24\n",
      "4   | 576 | -76   | -40   | 24\n",
      "5   | 500 | -116   | -16   | 24\n",
      "6   | 384 | -132   | 8   | 24\n",
      "7   | 252 | -124   | 32   | 24\n"
     ]
    }
   ],
   "source": [
    "print(\"hgt | vol | 1diff | 2diff | 3diff\")  #These are the column headings. \n",
    "for i in range(0,8): #And this is the loop to print the table\n",
    "    print (height[i],\"  |\",volume[i],\"|\",firstdiff[i],\"  |\",secdiff[i],\"  |\",thirddiff[i])\n"
   ]
  },
  {
   "cell_type": "code",
   "execution_count": 9,
   "metadata": {},
   "outputs": [],
   "source": [
    "#Our table looks a bit awkward, with the numbers not lining up. But the values are clear.\n",
    "#Now let's try plotting the values"
   ]
  },
  {
   "cell_type": "code",
   "execution_count": 12,
   "metadata": {},
   "outputs": [
    {
     "name": "stdout",
     "output_type": "stream",
     "text": [
      "11\n",
      "11\n",
      "10\n",
      "9\n",
      "8\n"
     ]
    }
   ],
   "source": [
    "# The len() function will tell us the length of our lists. \n",
    "#We want to make sure we don't create a loop that asks for a value from an index outside our list. \n",
    "print(len(height))\n",
    "print(len(volume))\n",
    "print(len(firstdiff))\n",
    "print(len(secdiff))\n",
    "print(len(thirddiff))"
   ]
  },
  {
   "cell_type": "code",
   "execution_count": 10,
   "metadata": {},
   "outputs": [
    {
     "data": {
      "image/png": "[encoded data removed]",
      "text/plain": [
       "<Figure size 432x288 with 1 Axes>"
      ]
     },
     "metadata": {
      "needs_background": "light"
     },
     "output_type": "display_data"
    }
   ],
   "source": [
    "plt.plot(height, volume, label='volume')\n",
    "plt.plot(height[0:8], firstdiff[0:8], label='firstdiff')\n",
    "plt.legend()\n",
    "plt.show()\n",
    "\n",
    "#The [0:8] means that we're just using the first 8 values."
   ]
  },
  {
   "cell_type": "code",
   "execution_count": null,
   "metadata": {},
   "outputs": [],
   "source": []
  }
 ],
 "metadata": {
  "kernelspec": {
   "display_name": "Python 3",
   "language": "python",
   "name": "python3"
  },
  "language_info": {
   "codemirror_mode": {
    "name": "ipython",
    "version": 3
   },
   "file_extension": ".py",
   "mimetype": "text/x-python",
   "name": "python",
   "nbconvert_exporter": "python",
   "pygments_lexer": "ipython3",
   "version": "3.7.1"
  }
 },
 "nbformat": 4,
 "nbformat_minor": 2
}
