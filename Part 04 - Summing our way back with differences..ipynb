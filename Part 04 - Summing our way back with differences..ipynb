{
 "cells": [
  {
   "cell_type": "code",
   "execution_count": null,
   "metadata": {},
   "outputs": [],
   "source": [
    "import matplotlib.pyplot as plt\n",
    "import numpy as np\n"
   ]
  },
  {
   "cell_type": "code",
   "execution_count": null,
   "metadata": {},
   "outputs": [],
   "source": [
    "# Given the volumes, we could generate the differences.  \n",
    "# Now, suppose we just have the top row of values height[0]=0, volume[0]=0, firstdiff[0]=324, secdiff[0]=-136, \n",
    "# and thirddiff[1]=24\n"
   ]
  },
  {
   "cell_type": "code",
   "execution_count": null,
   "metadata": {},
   "outputs": [],
   "source": [
    "\n",
    "#gridlength = 20\n",
    "#gridwidth = 20\n",
    "volume=[0]\n",
    "height=[0]\n",
    "firstdiff=[324]\n",
    "secdiff=[-136]\n",
    "thirddiff=[24]\n",
    "\n",
    "for i in range(0,11):\n",
    "    height.append(i+1)\n",
    "    thirddiff.append(24)\n",
    "    secdiff.append(thirddiff[i]+secdiff[i])\n",
    "    firstdiff.append(secdiff[i]+firstdiff[i])\n",
    "    volume.append(firstdiff[i]+volume[i])\n",
    "   \n",
    "    "
   ]
  },
  {
   "cell_type": "code",
   "execution_count": null,
   "metadata": {},
   "outputs": [],
   "source": [
    "print(\"hgt | vol | 1diff | 2diff | 3diff\")  #These are the column headings. \n",
    "for i in range(0,11):\n",
    "    print (height[i],\"  |\",volume[i],\"|\",firstdiff[i],\"  |\",secdiff[i],\"  |\",thirddiff[i])\n"
   ]
  },
  {
   "cell_type": "code",
   "execution_count": null,
   "metadata": {},
   "outputs": [],
   "source": [
    "# If we are going to graph them, it is important that our lists have the same size. And in this case, they do already!\n",
    "print(len(height))\n",
    "print(len(volume))\n",
    "print(len(firstdiff))\n",
    "print(len(secdiff))\n",
    "print(len(thirddiff))"
   ]
  },
  {
   "cell_type": "code",
   "execution_count": null,
   "metadata": {},
   "outputs": [],
   "source": [
    "plt.plot(height, volume, \"o--\", label='Volume')\n",
    "plt.plot(height, firstdiff,  \"o--\",label='First Difference')\n",
    "plt.plot(height, secdiff, \"o--\", label='Second Difference')\n",
    "plt.plot(height, thirddiff, \"o--\", label=\"Third Difference\")\n",
    "plt.xlabel ('height')\n",
    "plt.title(\"Box volume\")\n",
    "plt.legend()\n",
    "plt.show()"
   ]
  },
  {
   "cell_type": "code",
   "execution_count": null,
   "metadata": {},
   "outputs": [],
   "source": [
    "\n"
   ]
  },
  {
   "cell_type": "code",
   "execution_count": null,
   "metadata": {},
   "outputs": [],
   "source": []
  },
  {
   "cell_type": "code",
   "execution_count": null,
   "metadata": {},
   "outputs": [],
   "source": []
  },
  {
   "cell_type": "code",
   "execution_count": null,
   "metadata": {},
   "outputs": [],
   "source": []
  }
 ],
 "metadata": {
  "kernelspec": {
   "display_name": "Python 3",
   "language": "python",
   "name": "python3"
  },
  "language_info": {
   "codemirror_mode": {
    "name": "ipython",
    "version": 3
   },
   "file_extension": ".py",
   "mimetype": "text/x-python",
   "name": "python",
   "nbconvert_exporter": "python",
   "pygments_lexer": "ipython3",
   "version": "3.7.1"
  }
 },
 "nbformat": 4,
 "nbformat_minor": 2
}
