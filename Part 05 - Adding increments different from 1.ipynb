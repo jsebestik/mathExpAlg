{
 "cells": [
  {
   "cell_type": "code",
   "execution_count": null,
   "metadata": {},
   "outputs": [],
   "source": [
    "import matplotlib.pyplot as plt\n",
    "import numpy as np\n"
   ]
  },
  {
   "cell_type": "code",
   "execution_count": null,
   "metadata": {},
   "outputs": [],
   "source": [
    "#Let's go back to Part III, where we calculated the volume of the boxes and then found the differences. \n",
    "gridlength = 20\n",
    "gridwidth = 20\n",
    "volume=[]\n",
    "height=[]\n",
    "# Remember this part?\n",
    "#for i in range(0,11):\n",
    "#    height.append(i) \n",
    "#    volume.append ((gridlength - 2*height[i])*(gridwidth - 2*height[i])*height[i])\n",
    "#    print (height[i],\" | \", volume[i])\n",
    "\n",
    "#Instead of incrementing by whole units, let's go by halves. How? Let's double the number of steps \n",
    "# and half the value that fills up the list of heights. \n",
    "for i in range(0,21):\n",
    "    height.append(i/2) \n",
    "    volume.append ((gridlength - 2*height[i])*(gridwidth - 2*height[i])*height[i])\n",
    "    #print (height[i],\" | \", volume[i])\n",
    "\n",
    "    \n",
    "#Question to consider. Why is the value appended to the height \"i/2\" but the volume calculation still uses \"height[i]\"? "
   ]
  },
  {
   "cell_type": "code",
   "execution_count": null,
   "metadata": {},
   "outputs": [],
   "source": [
    "# Now, let's calculate the differences. \n",
    "\n",
    "firstdiff=[]\n",
    "secdiff=[]\n",
    "thirddiff=[]\n",
    "\n",
    "#fill up the firstdiff list\n",
    "for i in range(0,20):\n",
    "    firstdiff.append(volume[i+1]-volume[i])\n",
    "\n",
    "#fill up the secdiff list    \n",
    "for i in range(0,19):\n",
    "    secdiff.append(firstdiff[i+1]-firstdiff[i])\n",
    "    \n",
    "#fill up the thirddiff list    \n",
    "for i in range(0,18):\n",
    "    thirddiff.append(secdiff[i+1]-secdiff[i])\n",
    "    \n",
    " "
   ]
  },
  {
   "cell_type": "code",
   "execution_count": null,
   "metadata": {},
   "outputs": [],
   "source": [
    "print(\"hgt | vol | 1diff | 2diff | 3diff\")  #These are the column headings. \n",
    "for i in range(0,18):\n",
    "    print (height[i],\"  |\",volume[i],\"|\",firstdiff[i],\"  |\",secdiff[i],\"  |\",thirddiff[i])\n",
    "    \n",
    "#Notice that we can only print values from 0 to 18. Why?\n"
   ]
  },
  {
   "cell_type": "code",
   "execution_count": null,
   "metadata": {},
   "outputs": [],
   "source": [
    "# If we are going to graph them, it is important that our lists have the same size.\n",
    "print(len(height))\n",
    "print(len(volume))\n",
    "print(len(firstdiff))\n",
    "print(len(secdiff))\n",
    "print(len(thirddiff))"
   ]
  },
  {
   "cell_type": "code",
   "execution_count": null,
   "metadata": {},
   "outputs": [],
   "source": [
    "# Adding [0:18] constrains the list to the first 18 list items. That is, items 0 through 17\n",
    "plt.plot(height[0:18], volume[0:18], \"o--\", label='Volume')\n",
    "plt.plot(height[0:18], firstdiff[0:18],  \"o--\",label='First Difference')\n",
    "plt.plot(height[0:18], secdiff[0:18], \"o--\", label='Second Difference')\n",
    "plt.plot(height[0:18], thirddiff[0:18], \"o--\", label=\"Third Difference\")\n",
    "plt.xlabel ('height')\n",
    "plt.title(\"Box volume\")\n",
    "plt.legend()\n",
    "plt.show()"
   ]
  },
  {
   "cell_type": "code",
   "execution_count": null,
   "metadata": {},
   "outputs": [],
   "source": [
    "\n"
   ]
  },
  {
   "cell_type": "code",
   "execution_count": null,
   "metadata": {},
   "outputs": [],
   "source": []
  },
  {
   "cell_type": "code",
   "execution_count": null,
   "metadata": {},
   "outputs": [],
   "source": []
  },
  {
   "cell_type": "code",
   "execution_count": null,
   "metadata": {},
   "outputs": [],
   "source": []
  }
 ],
 "metadata": {
  "kernelspec": {
   "display_name": "Python 3",
   "language": "python",
   "name": "python3"
  },
  "language_info": {
   "codemirror_mode": {
    "name": "ipython",
    "version": 3
   },
   "file_extension": ".py",
   "mimetype": "text/x-python",
   "name": "python",
   "nbconvert_exporter": "python",
   "pygments_lexer": "ipython3",
   "version": "3.7.1"
  }
 },
 "nbformat": 4,
 "nbformat_minor": 2
}
