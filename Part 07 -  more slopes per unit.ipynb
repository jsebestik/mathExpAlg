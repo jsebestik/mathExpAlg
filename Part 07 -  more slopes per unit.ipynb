{
 "cells": [
  {
   "cell_type": "code",
   "execution_count": null,
   "metadata": {},
   "outputs": [],
   "source": [
    "import matplotlib.pyplot as plt\n",
    "import numpy as np\n"
   ]
  },
  {
   "cell_type": "code",
   "execution_count": null,
   "metadata": {},
   "outputs": [],
   "source": [
    "#In this version, we can ge better slopes by increasing the increment variable, \"inc\"\n",
    "gridlength = 20\n",
    "gridwidth = 20\n",
    "volume=[]\n",
    "height=[]\n",
    "inc = 4 #number of increments in each unit of length or width\n",
    "rangeval =int(10*inc) #we want \"rangeval\" to be an integer\n",
    "\n",
    "for i in range(0,rangeval+1):\n",
    "    height.append(i/inc) \n",
    "    volume.append ((gridlength - 2*height[i])*(gridwidth - 2*height[i])*height[i])\n",
    "    #print (height[i],\" | \", volume[i])    \n"
   ]
  },
  {
   "cell_type": "code",
   "execution_count": null,
   "metadata": {},
   "outputs": [],
   "source": [
    "firstdiff=[]\n",
    "secdiff=[]\n",
    "thirddif=[]\n",
    "\n",
    "slopes1=[]\n",
    "slopes2=[]\n",
    "slopes3=[]\n",
    "\n",
    "#fill up the slopes1 list\n",
    "for i in range(0,rangeval):\n",
    "    slopes1.append((volume[i+1]-volume[i])*inc)\n",
    "\n",
    "#fill up the slopes2 list    \n",
    "for i in range(0,rangeval-1):\n",
    "    slopes2.append((slopes1[i+1]-slopes1[i])*inc)\n",
    "    \n",
    "#fill up the slopes3 list    \n",
    "for i in range(0,rangeval-2):\n",
    "    slopes3.append((slopes2[i+1]-slopes2[i])*inc)\n",
    "    \n",
    " "
   ]
  },
  {
   "cell_type": "code",
   "execution_count": null,
   "metadata": {},
   "outputs": [],
   "source": [
    "print(\"hgt | vol  | slopes1 | slopes2  | slopes3\")  #These are the column headings. \n",
    "for i in range(0,(rangeval-2)):\n",
    "    print (height[i],\"  |\",round(volume[i],2),\"|\",slopes1[i],\"  |\",slopes2[i],\"  |\",slopes3[i])\n",
    "    \n",
    "\n"
   ]
  },
  {
   "cell_type": "code",
   "execution_count": null,
   "metadata": {},
   "outputs": [],
   "source": [
    "# Adding [0:18] constrains the list to the first 18 list items. That is, items 0 through 17\n",
    "plt.plot(height[0:(rangeval-2)], volume[0:(rangeval-2)], \"o--\", label='Volume')\n",
    "plt.plot(height[0:(rangeval-2)], slopes1[0:(rangeval-2)],  \"o--\",label='First slope')\n",
    "plt.plot(height[0:(rangeval-2)], slopes2[0:(rangeval-2)], \"o--\", label='Second slope')\n",
    "plt.plot(height[0:(rangeval-2)], slopes3[0:(rangeval-2)], \"o--\", label=\"Third slope\")\n",
    "plt.xlabel ('height')\n",
    "plt.title(\"Box volume\")\n",
    "plt.legend()\n",
    "plt.show()"
   ]
  },
  {
   "cell_type": "code",
   "execution_count": null,
   "metadata": {},
   "outputs": [],
   "source": []
  },
  {
   "cell_type": "code",
   "execution_count": null,
   "metadata": {},
   "outputs": [],
   "source": []
  }
 ],
 "metadata": {
  "kernelspec": {
   "display_name": "Python 3",
   "language": "python",
   "name": "python3"
  },
  "language_info": {
   "codemirror_mode": {
    "name": "ipython",
    "version": 3
   },
   "file_extension": ".py",
   "mimetype": "text/x-python",
   "name": "python",
   "nbconvert_exporter": "python",
   "pygments_lexer": "ipython3",
   "version": "3.7.1"
  }
 },
 "nbformat": 4,
 "nbformat_minor": 2
}
