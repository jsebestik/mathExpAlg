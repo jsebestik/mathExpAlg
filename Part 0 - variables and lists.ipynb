{
 "cells": [
  {
   "cell_type": "markdown",
   "metadata": {},
   "source": [
    "\n",
    "\n",
    "| <img src=\"https://mste.illinois.edu/reese/boxfolding/3x3squaresRemoved.jpg\" title=\"paper grid with corners cut\" width=\"100\" height=\"150\">     |  **Box Folding Example** |  <img src=\"https://mste.illinois.edu/reese/boxfolding/EQUATION1.JPG\" title=\"cubic graph\" width=\"150\" height=\"100\"> |\n",
    "| ----------- | ----------- | ----------- |"
   ]
  },
  {
   "cell_type": "markdown",
   "metadata": {},
   "source": [
    "##  Using Python code to do some math \n",
    "\n",
    "In this first notebook, we'll do some math operations. \n",
    "Then we'll get to the box problem. \n",
    "Each block is a \"cell\". To run the code in the cell, hold down the **Shift** key and hit the **Enter** key"
   ]
  },
  {
   "cell_type": "code",
   "execution_count": 1,
   "metadata": {},
   "outputs": [],
   "source": [
    "import matplotlib.pyplot as plt\n",
    "import numpy as np"
   ]
  },
  {
   "cell_type": "markdown",
   "metadata": {},
   "source": [
    "The first cell above brings in some libraries. We'll want those later. \n",
    "The * indicates that cell is still working. When a number appears at the left. **In[1]**, for example, that means it's done. "
   ]
  },
  {
   "cell_type": "code",
   "execution_count": 4,
   "metadata": {},
   "outputs": [
    {
     "name": "stdout",
     "output_type": "stream",
     "text": [
      "5 7 12 hello\n"
     ]
    }
   ],
   "source": [
    "#VARIABLES\n",
    "#Let's make a variable or two. We do this by declaring something and giving it a value\n",
    "n = \"hello\"\n",
    "x = 5\n",
    "y = 7\n",
    "#add a couple things and show the result\n",
    "print (x, y, x + y, n)\n"
   ]
  },
  {
   "cell_type": "code",
   "execution_count": 5,
   "metadata": {},
   "outputs": [
    {
     "name": "stdout",
     "output_type": "stream",
     "text": [
      "12\n"
     ]
    }
   ],
   "source": [
    "#we can assign new values to our variables\n",
    "x = x + y\n",
    "#now, the new value of x should be the old value of x (5) plus y. That is, 12. Let's print it and see. \n",
    "print (x)"
   ]
  },
  {
   "cell_type": "code",
   "execution_count": 6,
   "metadata": {},
   "outputs": [
    {
     "name": "stdout",
     "output_type": "stream",
     "text": [
      "5\n"
     ]
    }
   ],
   "source": [
    "# what will display now, if you type the command, print (x-y) ? Try it and see.\n",
    "print (x-y)"
   ]
  },
  {
   "cell_type": "code",
   "execution_count": 9,
   "metadata": {},
   "outputs": [
    {
     "ename": "TypeError",
     "evalue": "unsupported operand type(s) for +: 'int' and 'str'",
     "output_type": "error",
     "traceback": [
      "\u001b[1;31m---------------------------------------------------------------------------\u001b[0m",
      "\u001b[1;31mTypeError\u001b[0m                                 Traceback (most recent call last)",
      "\u001b[1;32m<ipython-input-9-f47f1fe42d52>\u001b[0m in \u001b[0;36m<module>\u001b[1;34m\u001b[0m\n\u001b[0;32m      5\u001b[0m \u001b[1;31m# Guess what will happen if you add x to n? Try print (x + n)\u001b[0m\u001b[1;33m\u001b[0m\u001b[1;33m\u001b[0m\u001b[1;33m\u001b[0m\u001b[0m\n\u001b[0;32m      6\u001b[0m \u001b[1;33m\u001b[0m\u001b[0m\n\u001b[1;32m----> 7\u001b[1;33m \u001b[0mprint\u001b[0m\u001b[1;33m(\u001b[0m\u001b[0mx\u001b[0m \u001b[1;33m+\u001b[0m\u001b[0mn\u001b[0m\u001b[1;33m)\u001b[0m\u001b[1;33m\u001b[0m\u001b[1;33m\u001b[0m\u001b[0m\n\u001b[0m",
      "\u001b[1;31mTypeError\u001b[0m: unsupported operand type(s) for +: 'int' and 'str'"
     ]
    }
   ],
   "source": [
    "# Use this cell to try doing some arithmetic with x and y. For example, x*x+y*y. \n",
    "\n",
    "x*x+y*y\n",
    "\n",
    "# Guess what will happen if you add x to n? Try print (x + n)\n"
   ]
  },
  {
   "cell_type": "code",
   "execution_count": null,
   "metadata": {},
   "outputs": [],
   "source": [
    "#LISTS\n",
    "#To make a list you just declare it as you would a variable, but put a pair of brackets in to indicate that it will be a list. \n",
    "counter = []\n",
    "#Give your list an initial value to get started\n",
    "\n",
    "# Then use a loop to fill it up\n",
    "for x in range (1, 20):\n",
    "    counter.append(x)\n",
    "# Notice that the line that begins the loop ends with a \":\" and the line below it is indented. \n",
    "# Everything indented below that initial statement is part of the loop \n",
    "# Append means to attach or, in this case, to add a value onto the end of the list.  \n",
    "\n",
    "print (counter)\n",
    "print (counter[0])\n",
    "print (counter[1])\n",
    "# The print commands above are not part of the loop. \n",
    "# Why do you think \"print (counter[0]) produces a \"1\"?\n",
    "    "
   ]
  },
  {
   "cell_type": "code",
   "execution_count": null,
   "metadata": {},
   "outputs": [],
   "source": [
    "#What should you do to show the 15th value in the list? The 20th?\n",
    "\n"
   ]
  }
 ],
 "metadata": {
  "kernelspec": {
   "display_name": "Python 3",
   "language": "python",
   "name": "python3"
  },
  "language_info": {
   "codemirror_mode": {
    "name": "ipython",
    "version": 3
   },
   "file_extension": ".py",
   "mimetype": "text/x-python",
   "name": "python",
   "nbconvert_exporter": "python",
   "pygments_lexer": "ipython3",
   "version": "3.7.6"
  }
 },
 "nbformat": 4,
 "nbformat_minor": 2
}
