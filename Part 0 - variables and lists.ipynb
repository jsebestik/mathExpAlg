{
 "cells": [
  {
   "cell_type": "code",
   "execution_count": null,
   "metadata": {},
   "outputs": [],
   "source": [
    "import matplotlib.pyplot as plt\n",
    "import numpy as np"
   ]
  },
  {
   "cell_type": "code",
   "execution_count": null,
   "metadata": {},
   "outputs": [],
   "source": [
    "#VARIABLES\n",
    "#Let's make a variable or two. We do this by declaring something and giving it a value\n",
    "n = \"hello\"\n",
    "x = 5\n",
    "y = 7\n",
    "#add a couple things and show the result\n",
    "print (x, y, x + y, n)\n"
   ]
  },
  {
   "cell_type": "code",
   "execution_count": null,
   "metadata": {},
   "outputs": [],
   "source": [
    "#we can assign new values to our variables\n",
    "x = x + y\n",
    "#now, the new value of x should be the old value of x (5) plus y. That is, 12. Let's print it and see. \n",
    "print (x)"
   ]
  },
  {
   "cell_type": "code",
   "execution_count": null,
   "metadata": {},
   "outputs": [],
   "source": [
    "# what will display now, if you type the command, print (x-y) ? Try it and see.\n",
    "print (x-y)"
   ]
  },
  {
   "cell_type": "code",
   "execution_count": null,
   "metadata": {},
   "outputs": [],
   "source": [
    "# Use this cell to try doing some arithmetic with x and y\n",
    "\n",
    "\n",
    "\n",
    "# Guess what will happen if you add x to n? Try print (x + n)\n",
    "\n"
   ]
  },
  {
   "cell_type": "code",
   "execution_count": null,
   "metadata": {},
   "outputs": [],
   "source": [
    "#LISTS\n",
    "#To make a list you just declare it as you would a variable, but put a pair of brackets in to indicate that it will be a list. \n",
    "counter = []\n",
    "#Give your list an initial value to get started\n",
    "\n",
    "# Then use a loop to fill it up\n",
    "for x in range (1, 20):\n",
    "    counter.append(x)\n",
    "# Notice that the line that begins the loop ends with a \":\" and the line below it is indented. \n",
    "# Everything indented below that initial statement is part of the loop \n",
    "# Append means to attach or, in this case, to add a value onto the end of the list.  \n",
    "\n",
    "print (counter)\n",
    "print (counter[0])\n",
    "print (counter[1])\n",
    "# The print commands above are not part of the loop. \n",
    "# Why do you think \"print (counter[0]) produces a \"1\"?\n",
    "    "
   ]
  },
  {
   "cell_type": "code",
   "execution_count": null,
   "metadata": {},
   "outputs": [],
   "source": [
    "#What should you do to show the 15th value in the list? The 20th?\n",
    "\n"
   ]
  }
 ],
 "metadata": {
  "kernelspec": {
   "display_name": "Python 3",
   "language": "python",
   "name": "python3"
  },
  "language_info": {
   "codemirror_mode": {
    "name": "ipython",
    "version": 3
   },
   "file_extension": ".py",
   "mimetype": "text/x-python",
   "name": "python",
   "nbconvert_exporter": "python",
   "pygments_lexer": "ipython3",
   "version": "3.7.1"
  }
 },
 "nbformat": 4,
 "nbformat_minor": 2
}
